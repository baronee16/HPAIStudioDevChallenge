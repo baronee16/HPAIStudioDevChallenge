{
 "cells": [
  {
   "cell_type": "markdown",
   "id": "e0a713c7",
   "metadata": {},
   "source": [
    "# Objective\n",
    "In this notebook the objective is to test the server of Mlflow"
   ]
  },
  {
   "cell_type": "markdown",
   "id": "725adb78",
   "metadata": {},
   "source": [
    "# Notebook Overview\n",
    "- Import Dependencies\n",
    "- Testing MLflow Server"
   ]
  },
  {
   "cell_type": "markdown",
   "id": "86c945a5-c29b-49ff-965d-a7a05ec776c5",
   "metadata": {},
   "source": [
    "# Imports Dependencies "
   ]
  },
  {
   "cell_type": "code",
   "execution_count": 2,
   "id": "cc2c13b9-9b26-4489-a417-94836b5e1d2a",
   "metadata": {},
   "outputs": [],
   "source": [
    "import requests\n",
    "import mlflow"
   ]
  },
  {
   "cell_type": "markdown",
   "id": "0c40213e-6e65-4fe0-9723-b13a30bf948f",
   "metadata": {},
   "source": [
    "Copy and paste the \"Run's Artifact URI\" path from the Deployment.ipynb like this:"
   ]
  },
  {
   "cell_type": "markdown",
   "id": "8c09789f-698a-4e69-96d5-0a4269a37644",
   "metadata": {},
   "source": [
    "```\n",
    "!mlflow models serve -m <artifact_uri_path>/BERT_QA --env-manager conda --port 5004\n",
    "```"
   ]
  },
  {
   "cell_type": "markdown",
   "id": "6e012fab-caba-4a5e-b84b-e0350e59c598",
   "metadata": {},
   "source": [
    "After, copy and paste this code in a Terminal and press enter."
   ]
  },
  {
   "cell_type": "markdown",
   "id": "06fdcf28-309d-486e-a6c0-7b1c8c7c5d99",
   "metadata": {},
   "source": [
    "# Testing MLflow Server"
   ]
  },
  {
   "cell_type": "code",
   "execution_count": null,
   "id": "8de4f2a4-7e83-4b35-a352-3ada454f08ad",
   "metadata": {},
   "outputs": [],
   "source": [
    "context = \"Marta is mother of John and Amanda\"\n",
    "question = \"what is the name of Marta's daugther?\"\n",
    "\n",
    "url = 'http://localhost:5004/invocations'\n",
    "body = {\n",
    "    \"inputs\": {\n",
    "        \"context\": [context],\n",
    "        \"question\":[question]\n",
    "    }\n",
    "}\n",
    "headers = {'Content-type': 'application/json', }\n",
    "response = requests.post(url, headers=headers, json=body)\n",
    "response.reason, response.status_code, response.json()"
   ]
  }
 ],
 "metadata": {
  "kernelspec": {
   "display_name": "Python [conda env:base] *",
   "language": "python",
   "name": "conda-base-py"
  },
  "language_info": {
   "codemirror_mode": {
    "name": "ipython",
    "version": 3
   },
   "file_extension": ".py",
   "mimetype": "text/x-python",
   "name": "python",
   "nbconvert_exporter": "python",
   "pygments_lexer": "ipython3",
   "version": "3.12.7"
  }
 },
 "nbformat": 4,
 "nbformat_minor": 5
}
