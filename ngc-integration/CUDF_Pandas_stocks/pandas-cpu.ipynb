{
 "cells": [
  {
   "cell_type": "markdown",
   "metadata": {
    "id": "kcF9ZWvjSybR"
   },
   "source": [
    "# Introduction\n",
    "\n",
    "In this notebook, we run a series of database operations using standard Pandas, running on CPU. These values will be logged into MLFlow and used as reference to compare with the GPU accelerated version using CUDF. "
   ]
  },
  {
   "cell_type": "markdown",
   "metadata": {
    "id": "lv0guwQAcpgX"
   },
   "source": [
    "# About the data\n",
    "\n",
    "The data we'll be working with is a subset of the [USA 514 Stocks Prices NASDAQ NYSE dataset](https://www.kaggle.com/datasets/olegshpagin/usa-stocks-prices-ohlcv) from Kaggle. This was segmented in differently sized samples, with 5M, 10M, 15M and 20M data entries, and should be set up as an asset (Dataset) called USA_Stocks on the AI Studio project. This code tests whether your dataset is properly setup:"
   ]
  },
  {
   "cell_type": "code",
   "execution_count": 1,
   "metadata": {
    "colab": {
     "base_uri": "https://localhost:8080/"
    },
    "id": "WmOguzNUcw4F",
    "outputId": "dbe56095-403b-4527-8809-472c0561d403"
   },
   "outputs": [
    {
     "name": "stdout",
     "output_type": "stream",
     "text": [
      "Dataset is properly configured\n"
     ]
    }
   ],
   "source": [
    "import os.path\n",
    "\n",
    "if os.path.exists(\"/home/jovyan/datafabric/USA_Stocks/usa_stocks_5m.parquet\") and \\\n",
    "   os.path.exists(\"/home/jovyan/datafabric/USA_Stocks/usa_stocks_10m.parquet\") and \\\n",
    "   os.path.exists(\"/home/jovyan/datafabric/USA_Stocks/usa_stocks_15m.parquet\") and \\\n",
    "   os.path.exists(\"/home/jovyan/datafabric/USA_Stocks/usa_stocks_20m.parquet\"):\n",
    "    print(\"Dataset is properly configured\")\n",
    "else:\n",
    "    print(\"Dataset is not properly configured. Please, create and download the assets on your project on AI Studio\")\n"
   ]
  },
  {
   "cell_type": "markdown",
   "metadata": {
    "id": "Pq01z9FvJjxR"
   },
   "source": [
    "# Analysis in standard Pandas\n",
    "\n",
    "In the next cells, we will define functions to run different operations in datasets:\n",
    "  * A function to describe the dataset\n",
    "  * A function to aggregate results grouped by \"ticker\" (the identifier of each stock)\n",
    "  * A function to aggregate by ticker, year and week\n",
    "  * A function to retrieve a rolling window with a given number of days for each ticker\n",
    "\n",
    "For each of these functions, the result will be displayed, and the necessary time to run will be logged into MLFlow. These functions will then be applied to the given set of samples in sample_sizes (e.g. [5, 10, 15, 20]). Bigger samples (15M and 20M) might be too heavy depending on the setup of your computer, so we recommend to configure the desired sample sizes according to the available resources:\n",
    "    "
   ]
  },
  {
   "cell_type": "code",
   "execution_count": 2,
   "metadata": {
    "id": "rZ2Ac34yIqe8"
   },
   "outputs": [],
   "source": [
    "import pandas as pd\n",
    "import mlflow\n",
    "import timeit\n",
    "\n",
    "sample_sizes = [5, 10]\n",
    "rolling_windows = [7]"
   ]
  },
  {
   "cell_type": "code",
   "execution_count": 3,
   "metadata": {
    "colab": {
     "base_uri": "https://localhost:8080/",
     "height": 336
    },
    "id": "DqqjcfcfJnvy",
    "outputId": "2592a7f6-8777-4515-9737-4e0c48228dc8"
   },
   "outputs": [],
   "source": [
    "import time\n",
    "def describe(df):\n",
    "    start_time = time.time()\n",
    "    result = df.describe\n",
    "    return time.time() - start_time, result\n",
    "\n",
    "def simple_aggregation(df):\n",
    "    start_time = time.time()\n",
    "    result = df.groupby(\"ticker\").agg({\"datetime\": [\"min\", \"max\", \"count\"]})\n",
    "    return time.time() - start_time, result    \n",
    "\n",
    "def composite_aggregation(df):\n",
    "    start_time = time.time()\n",
    "    df[[\"year\", \"week\", \"day\"]] = df.datetime.dt.isocalendar()\n",
    "    result = df.groupby([\"ticker\", \"year\", \"week\"]).agg({\"close\": [\"min\", \"max\"]})\n",
    "    return time.time() - start_time, result    \n",
    "    \n",
    "def rolling_window(df, days):\n",
    "    start_time = time.time()\n",
    "    result = df.set_index(\"datetime\").sort_index().groupby(\"ticker\").rolling(f\"{days}D\").mean().reset_index() \n",
    "    return time.time() - start_time, result    \n",
    "    \n",
    "    \n",
    "    "
   ]
  },
  {
   "cell_type": "code",
   "execution_count": 5,
   "metadata": {},
   "outputs": [
    {
     "name": "stderr",
     "output_type": "stream",
     "text": [
      "2024/12/05 20:38:03 INFO mlflow.tracking.fluent: Experiment with name 'USA Stock analysis' does not exist. Creating a new experiment.\n"
     ]
    }
   ],
   "source": [
    "experiment_name = \"USA Stock analysis\"\n",
    "\n",
    "mlflow.set_experiment(experiment_name=experiment_name)\n",
    "for size in sample_sizes:\n",
    "    with mlflow.start_run(run_name = f\"Standard - {size}M\") as run:\n",
    "        mlflow.log_param(\"Computing\", \"cpu\")\n",
    "        mlflow.log_param(\"Dataset size in MB\", size)\n",
    "        df = pd.read_parquet(f\"/home/jovyan/datafabric/USA_Stocks/usa_stocks_{size}m.parquet\")\n",
    "        mlflow.log_metric(f\"Description time in s\", describe(df)[0])\n",
    "        mlflow.log_metric(f\"Simple Aggregation time in s\", simple_aggregation(df)[0])\n",
    "        mlflow.log_metric(f\"Composite Aggregation time in s\", composite_aggregation(df)[0])\n",
    "        for window_size in rolling_windows:\n",
    "           mlflow.log_metric(f\"Rolling window {window_size}D time in s\", rolling_window(df, window_size)[0])\n",
    "\n"
   ]
  },
  {
   "cell_type": "code",
   "execution_count": null,
   "metadata": {},
   "outputs": [],
   "source": []
  }
 ],
 "metadata": {
  "accelerator": "GPU",
  "colab": {
   "gpuType": "T4",
   "provenance": []
  },
  "kernelspec": {
   "display_name": "aistudio",
   "language": "python",
   "name": "aistudio"
  },
  "language_info": {
   "codemirror_mode": {
    "name": "ipython",
    "version": 3
   },
   "file_extension": ".py",
   "mimetype": "text/x-python",
   "name": "python",
   "nbconvert_exporter": "python",
   "pygments_lexer": "ipython3",
   "version": "3.11.10"
  }
 },
 "nbformat": 4,
 "nbformat_minor": 4
}
