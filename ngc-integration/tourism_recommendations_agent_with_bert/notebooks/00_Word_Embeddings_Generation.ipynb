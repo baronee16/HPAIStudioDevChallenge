{
 "cells": [
  {
   "cell_type": "markdown",
   "id": "7f6fbfc8-2cd1-4f92-b1f3-5bbcb2b471b2",
   "metadata": {},
   "source": [
    "# Word Embeddings Generation"
   ]
  },
  {
   "cell_type": "markdown",
   "id": "181089eb-c770-45f3-95b7-67e91fa8a7d9",
   "metadata": {},
   "source": [
    "This Jupyter notebook demonstrates how to generate word embeddings from a given corpus using a pre-trained BERT model. These embeddings will be used to find semantically similar matches for a user query."
   ]
  },
  {
   "cell_type": "markdown",
   "id": "3a4a84a6-5525-4e88-b294-bd9281fded03",
   "metadata": {},
   "source": [
    "# Notebook Overview\n",
    "- Import Dependencies\n",
    "- Configure Logging and Define Constants and Paths\n",
    "- Load and Preprocess Data\n",
    "- Initialize BERT Tokenizer and Model\n",
    "- Generate Embeddings in Batches\n",
    "- Save Embeddings to File"
   ]
  },
  {
   "cell_type": "markdown",
   "id": "0992461b-63d7-479e-82fc-28723f297390",
   "metadata": {},
   "source": [
    "# Import Dependencies"
   ]
  },
  {
   "cell_type": "code",
   "execution_count": 1,
   "id": "9f56c9b0",
   "metadata": {},
   "outputs": [],
   "source": [
    "import sys\n",
    "import os  \n",
    "from pathlib import Path  \n",
    "import logging\n",
    "from datetime import datetime\n",
    "\n",
    "# Data manipulation libraries\n",
    "import pandas as pd\n",
    "import numpy as np\n",
    "\n",
    "# Deep learning framework\n",
    "import torch  \n",
    "\n",
    "# NLP libraries\n",
    "import nltk  # Natural Language Toolkit\n",
    "from nemo.collections.nlp.models import BERTLMModel  # BERT Language Model from NVIDIA NeMo\n",
    "from transformers import AutoTokenizer  # Tokenizer for transformer-based models"
   ]
  },
  {
   "cell_type": "code",
   "execution_count": 2,
   "id": "60988811-3eb5-4aff-9e04-245c2ec5cc22",
   "metadata": {},
   "outputs": [],
   "source": [
    "# ------------------------ Suppress Verbose Logs ------------------------\n",
    "\n",
    "import warnings\n",
    "warnings.filterwarnings(\"ignore\")\n",
    "\n",
    "# Hugging Face Transformers logs\n",
    "from transformers import logging as hf_logging\n",
    "hf_logging.set_verbosity_error()\n",
    "\n",
    "# NVIDIA NeMo logs\n",
    "logging.getLogger(\"nemo_logger\").setLevel(logging.ERROR)"
   ]
  },
  {
   "cell_type": "markdown",
   "id": "72c61ad4-2cdf-443f-b6bc-f26184180536",
   "metadata": {},
   "source": [
    "# Configure Logging and Define Constants and Paths"
   ]
  },
  {
   "cell_type": "code",
   "execution_count": 3,
   "id": "7602f807-b638-4c44-b228-68a56c0b5a3f",
   "metadata": {},
   "outputs": [],
   "source": [
    "# Create logger\n",
    "logger = logging.getLogger(\"notebook_logger\")\n",
    "logger.setLevel(logging.INFO)\n",
    "\n",
    "formatter = logging.Formatter(\"%(asctime)s - %(levelname)s - %(message)s\", \n",
    "                              datefmt=\"%Y-%m-%d %H:%M:%S\")  \n",
    "\n",
    "stream_handler = logging.StreamHandler()\n",
    "stream_handler.setFormatter(formatter)\n",
    "logger.addHandler(stream_handler)\n",
    "logger.propagate = False"
   ]
  },
  {
   "cell_type": "code",
   "execution_count": 4,
   "id": "d21fc54d-eb42-432b-8a8a-9f0885fde221",
   "metadata": {},
   "outputs": [],
   "source": [
    "CORPUS_PATH = \"../data/raw/corpus.csv\"\n",
    "TOKENIZER_DIR = \"../artifacts/tokenizer\"\n",
    "BERT_MODEL_NAME = \"bert-large-uncased\"\n",
    "BERT_MODEL_DATAFABRIC_PATH = \"/home/jovyan/datafabric/Bertlargeuncased/bertlargeuncased.nemo\"\n",
    "EMBEDDINGS_OUTPUT_PATH = \"../data/processed/\""
   ]
  },
  {
   "cell_type": "code",
   "execution_count": 5,
   "id": "e97ae0bc-7bce-4948-9ed4-2ec6d0f4a90e",
   "metadata": {},
   "outputs": [
    {
     "name": "stderr",
     "output_type": "stream",
     "text": [
      "2025-04-07 02:17:57 - INFO - Notebook execution started.\n"
     ]
    }
   ],
   "source": [
    "logger.info('Notebook execution started.')"
   ]
  },
  {
   "cell_type": "markdown",
   "id": "6f4635eb-9224-4a55-b8c5-a8d519c721c6",
   "metadata": {},
   "source": [
    "# Load and Preprocess Data"
   ]
  },
  {
   "cell_type": "code",
   "execution_count": 6,
   "id": "d09b9bbf",
   "metadata": {},
   "outputs": [
    {
     "name": "stderr",
     "output_type": "stream",
     "text": [
      "[nltk_data] Downloading package punkt to /root/nltk_data...\n",
      "[nltk_data]   Package punkt is already up-to-date!\n"
     ]
    },
    {
     "data": {
      "text/plain": [
       "True"
      ]
     },
     "execution_count": 6,
     "metadata": {},
     "output_type": "execute_result"
    }
   ],
   "source": [
    "# Download the Punkt tokenizer data for sentence tokenization\n",
    "nltk.download('punkt')"
   ]
  },
  {
   "cell_type": "code",
   "execution_count": 7,
   "id": "2b4414a7",
   "metadata": {
    "scrolled": true
   },
   "outputs": [
    {
     "name": "stderr",
     "output_type": "stream",
     "text": [
      "2025-04-07 02:17:57 - INFO - First few entries of the DataFrame:\n"
     ]
    },
    {
     "name": "stdout",
     "output_type": "stream",
     "text": [
      "   Unnamed: 0  Topic                                             Pledge\n",
      "0           0      1  Actually we as an association are still pretty...\n",
      "1           1      1  EFFAT welcomes the Commission Proposal for a R...\n",
      "2           2      1  HOTREC calls for a level playing field and fai...\n",
      "3           3      1  Estonia sees the need to synchronize and harmo...\n",
      "4           4      1  Sphere Travel Club contributes to a flourishin...\n"
     ]
    }
   ],
   "source": [
    "# Load the dataset into a Pandas DataFrame\n",
    "corpus_df = pd.read_csv(CORPUS_PATH)\n",
    "\n",
    "# Display the first few rows of the DataFrame\n",
    "logger.info(\"First few entries of the DataFrame:\")\n",
    "print(corpus_df.head())"
   ]
  },
  {
   "cell_type": "code",
   "execution_count": 8,
   "id": "a72e3471",
   "metadata": {},
   "outputs": [],
   "source": [
    "documents = corpus_df[\"Pledge\"].astype(str).tolist()  # Convert the column to a list"
   ]
  },
  {
   "cell_type": "markdown",
   "id": "9a5b1b05-703e-477c-b68a-9ebcd963df99",
   "metadata": {},
   "source": [
    "# Initialize BERT Tokenizer and Model"
   ]
  },
  {
   "cell_type": "code",
   "execution_count": 9,
   "id": "1f9e6430",
   "metadata": {},
   "outputs": [
    {
     "name": "stderr",
     "output_type": "stream",
     "text": [
      "2025-04-07 02:17:57 - INFO - Loading BERT model...\n",
      "2025-04-07 02:19:44 - INFO - BERT model loaded successfully.\n"
     ]
    },
    {
     "name": "stdout",
     "output_type": "stream",
     "text": [
      "CPU times: user 15.2 s, sys: 4.37 s, total: 19.5 s\n",
      "Wall time: 1min 47s\n"
     ]
    }
   ],
   "source": [
    "%%time\n",
    "\n",
    "# Initialize the tokenizer with a pre-trained BERT model\n",
    "tokenizer = AutoTokenizer.from_pretrained(BERT_MODEL_NAME)\n",
    "tokenizer.save_pretrained(TOKENIZER_DIR)\n",
    "\n",
    "# Set device to GPU if available, otherwise use CPU\n",
    "device = torch.device(\"cuda\" if torch.cuda.is_available() else \"cpu\")\n",
    "\n",
    "logger.info(\"Loading BERT model...\")\n",
    "\n",
    "# Ensure you have added the 'bertlargeuncased' model from the NVIDIA NGC model catalog.\n",
    "# If unavailable, use the alternative method below to download the model online.\n",
    "\n",
    "# Uncomment the following line to download the BERT model online:\n",
    "# bert_model = BERTLMModel.from_pretrained(model_name=\"bertlargeuncased\", strict=False).to(device)\n",
    "\n",
    "# Load the BERT model from a local .nemo file inside datafabric folder\n",
    "bert_model = BERTLMModel.restore_from(BERT_MODEL_DATAFABRIC_PATH, strict=False).to(device)\n",
    "\n",
    "logger.info(\"BERT model loaded successfully.\")"
   ]
  },
  {
   "cell_type": "markdown",
   "id": "96cac586-cea0-4272-b959-d7c0e405e359",
   "metadata": {},
   "source": [
    "# Generate Embeddings in Batches"
   ]
  },
  {
   "cell_type": "code",
   "execution_count": 10,
   "id": "f6010c33",
   "metadata": {},
   "outputs": [],
   "source": [
    "def generate_embeddings_in_batches(texts, tokenizer, model, batch_size=32):\n",
    "    \"\"\"\n",
    "    Generates text embeddings using the NeMo BERT model in batches.\n",
    "    \n",
    "    Args:\n",
    "        texts (list of str): List of input texts.\n",
    "        tokenizer: Pretrained tokenizer.\n",
    "        model: Pretrained NeMo BERT model.\n",
    "        batch_size (int, optional): Batch size for processing. Default is 32.\n",
    "    \n",
    "    Returns:\n",
    "        np.ndarray: Generated embeddings.\n",
    "    \"\"\"\n",
    "    model.eval()  # Set model to evaluation mode\n",
    "    device = torch.device(\"cuda\" if torch.cuda.is_available() else \"cpu\")\n",
    "    model.to(device)\n",
    "\n",
    "    all_embeddings = []\n",
    "\n",
    "    for i in range(0, len(texts), batch_size):\n",
    "        batch_texts = texts[i:i + batch_size]\n",
    "        \n",
    "        # Tokenize batch with padding and truncation\n",
    "        encoded_input = tokenizer(\n",
    "            batch_texts, padding=True, truncation=True, return_tensors=\"pt\", max_length=128\n",
    "        )\n",
    "        encoded_input = {key: val.to(device) for key, val in encoded_input.items()}\n",
    "\n",
    "        with torch.no_grad():  # Disable gradient computation for inference\n",
    "            output = model.bert_model(**encoded_input)\n",
    "        \n",
    "        # Extract the CLS token representation for embeddings\n",
    "        embeddings = output[:, 0, :].cpu().numpy()  # CLS token representation\n",
    "        all_embeddings.append(embeddings)\n",
    "\n",
    "    return np.vstack(all_embeddings)"
   ]
  },
  {
   "cell_type": "markdown",
   "id": "373c7c77-7a19-469d-8962-862a4b9b7ce7",
   "metadata": {},
   "source": [
    "# Save Embeddings to File"
   ]
  },
  {
   "cell_type": "code",
   "execution_count": 11,
   "id": "a03e94c9-6b53-4812-9226-a066896b95cb",
   "metadata": {},
   "outputs": [
    {
     "name": "stderr",
     "output_type": "stream",
     "text": [
      "2025-04-07 02:25:33 - INFO - ✅ Embedding completed and saved to: ../data/processed/embeddings.csv\n"
     ]
    },
    {
     "name": "stdout",
     "output_type": "stream",
     "text": [
      "CPU times: user 1h 27min 22s, sys: 2min 36s, total: 1h 29min 59s\n",
      "Wall time: 5min 48s\n"
     ]
    }
   ],
   "source": [
    "%%time\n",
    "\n",
    "# Generate embeddings using the pre-trained model\n",
    "embeddings = generate_embeddings_in_batches(documents, tokenizer, bert_model)\n",
    "\n",
    "# Convert embeddings into a DataFrame\n",
    "df_embeddings = pd.DataFrame(embeddings)\n",
    "\n",
    "# Ensure the output directory exists\n",
    "os.makedirs(EMBEDDINGS_OUTPUT_PATH, exist_ok=True)\n",
    "    \n",
    "# Define output file path\n",
    "output_file = os.path.join(EMBEDDINGS_OUTPUT_PATH, \"embeddings.csv\")\n",
    "\n",
    "# Save embeddings\n",
    "df_embeddings.to_csv(output_file , index=False)\n",
    "\n",
    "logger.info(f\"✅ Embedding completed and saved to: {output_file}\")"
   ]
  },
  {
   "cell_type": "code",
   "execution_count": 12,
   "id": "a24a3b99-3081-4559-8130-d8c5a401a20b",
   "metadata": {},
   "outputs": [
    {
     "name": "stderr",
     "output_type": "stream",
     "text": [
      "2025-04-07 02:25:33 - INFO - Notebook execution completed.\n"
     ]
    }
   ],
   "source": [
    "logger.info('Notebook execution completed.')"
   ]
  },
  {
   "cell_type": "markdown",
   "id": "2315db8e-c3c8-4ca4-a458-fcae2b7d74d1",
   "metadata": {},
   "source": [
    "Built with ❤️ using Z by HP AI Studio."
   ]
  }
 ],
 "metadata": {
  "kernelspec": {
   "display_name": "aistudio",
   "language": "python",
   "name": "aistudio"
  },
  "language_info": {
   "codemirror_mode": {
    "name": "ipython",
    "version": 3
   },
   "file_extension": ".py",
   "mimetype": "text/x-python",
   "name": "python",
   "nbconvert_exporter": "python",
   "pygments_lexer": "ipython3",
   "version": "3.10.12"
  }
 },
 "nbformat": 4,
 "nbformat_minor": 5
}
